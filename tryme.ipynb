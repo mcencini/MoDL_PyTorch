{
 "cells": [
  {
   "cell_type": "markdown",
   "id": "3ebf2a7d-5d16-4787-a1e9-423c3beb8d13",
   "metadata": {},
   "source": [
    "# MoDL"
   ]
  },
  {
   "cell_type": "markdown",
   "id": "65aa4d05-5bee-468f-91a8-1e9948e727db",
   "metadata": {},
   "source": [
    "## Train"
   ]
  },
  {
   "cell_type": "code",
   "execution_count": null,
   "id": "570e8f5f-7419-4507-a358-02adc3ad6b60",
   "metadata": {},
   "outputs": [],
   "source": [
    "!scripts/train.sh"
   ]
  },
  {
   "cell_type": "markdown",
   "id": "dea56afb-4487-4fa1-981e-cc0d09724894",
   "metadata": {},
   "source": [
    "## Test"
   ]
  },
  {
   "cell_type": "code",
   "execution_count": 1,
   "id": "b960b82f-d6a4-4179-9014-1e494044749f",
   "metadata": {},
   "outputs": [
    {
     "name": "stdout",
     "output_type": "stream",
     "text": [
      "test data: 164\n",
      "loading model from ./workspace/base_modl,k=1/checkpoints/final.epoch0049-score37.2795.pth...\n",
      "\n",
      "\n",
      "test start: 2023-10-06 12:23:35\n",
      "  0%|                                                     | 0/6 [00:00<?, ?it/s]/home/local/IMAGO7/mcencini/.conda/envs/modl/lib/python3.10/site-packages/torch/nn/modules/conv.py:456: UserWarning: Applied workaround for CuDNN issue, install nvrtc.so (Triggered internally at ../aten/src/ATen/native/cudnn/Conv_v8.cpp:80.)\n",
      "  return F.conv2d(input, weight, bias, self.stride,\n",
      "100%|█████████████████████████████████████████████| 6/6 [00:14<00:00,  2.50s/it]\n",
      "test PSNR score: 36.5642\n",
      "test SSIM score: 0.8078\n",
      "-----------------------\n",
      "total test time: 0.25 min\n"
     ]
    }
   ],
   "source": [
    "!scripts/test.sh"
   ]
  },
  {
   "cell_type": "markdown",
   "id": "4633448b-6fc9-46cd-9db4-3ca55a32fe7d",
   "metadata": {},
   "source": [
    "## Display"
   ]
  },
  {
   "cell_type": "code",
   "execution_count": 9,
   "id": "75294a1e-fc59-4757-b642-fcf37dd0b17f",
   "metadata": {},
   "outputs": [
    {
     "name": "stdout",
     "output_type": "stream",
     "text": [
      "The tensorboard extension is already loaded. To reload it, use:\n",
      "  %reload_ext tensorboard\n"
     ]
    },
    {
     "data": {
      "text/plain": [
       "Reusing TensorBoard on port 6006 (pid 2206420), started 0:02:41 ago. (Use '!kill 2206420' to kill it.)"
      ]
     },
     "metadata": {},
     "output_type": "display_data"
    },
    {
     "data": {
      "text/html": [
       "\n",
       "      <iframe id=\"tensorboard-frame-bdc07954be75d5b6\" width=\"100%\" height=\"800\" frameborder=\"0\">\n",
       "      </iframe>\n",
       "      <script>\n",
       "        (function() {\n",
       "          const frame = document.getElementById(\"tensorboard-frame-bdc07954be75d5b6\");\n",
       "          const url = new URL(\"/\", window.location);\n",
       "          const port = 6006;\n",
       "          if (port) {\n",
       "            url.port = port;\n",
       "          }\n",
       "          frame.src = url;\n",
       "        })();\n",
       "      </script>\n",
       "    "
      ],
      "text/plain": [
       "<IPython.core.display.HTML object>"
      ]
     },
     "metadata": {},
     "output_type": "display_data"
    }
   ],
   "source": [
    "%load_ext tensorboard\n",
    "%tensorboard --logdir runs"
   ]
  },
  {
   "cell_type": "code",
   "execution_count": null,
   "id": "def420ab-9cca-4393-8e45-8da270e00257",
   "metadata": {},
   "outputs": [],
   "source": []
  }
 ],
 "metadata": {
  "kernelspec": {
   "display_name": "Python 3 (ipykernel)",
   "language": "python",
   "name": "python3"
  },
  "language_info": {
   "codemirror_mode": {
    "name": "ipython",
    "version": 3
   },
   "file_extension": ".py",
   "mimetype": "text/x-python",
   "name": "python",
   "nbconvert_exporter": "python",
   "pygments_lexer": "ipython3",
   "version": "3.10.13"
  }
 },
 "nbformat": 4,
 "nbformat_minor": 5
}
