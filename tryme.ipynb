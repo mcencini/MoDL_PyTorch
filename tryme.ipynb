{
 "cells": [
  {
   "cell_type": "markdown",
   "id": "3ebf2a7d-5d16-4787-a1e9-423c3beb8d13",
   "metadata": {},
   "source": [
    "# MoDL"
   ]
  },
  {
   "cell_type": "markdown",
   "id": "65aa4d05-5bee-468f-91a8-1e9948e727db",
   "metadata": {},
   "source": [
    "## 0. Download data (only for Colab)"
   ]
  },
  {
   "cell_type": "markdown",
   "id": "2c7f157f-fca9-4a63-81ab-d8f9147cc71e",
   "metadata": {},
   "source": [
    "Run this section only if you are running from Google Colab - otherwise skip to 1.\n",
    "\n",
    "Be sure to change the runtime to a GPU-enabled one (e.g., T4)."
   ]
  },
  {
   "cell_type": "code",
   "execution_count": 5,
   "id": "772b8ca9-c487-4852-97bf-856b73c496df",
   "metadata": {},
   "outputs": [
    {
     "name": "stdout",
     "output_type": "stream",
     "text": [
      "Cloning into 'MoDL_PyTorch'...\n",
      "remote: Enumerating objects: 100, done.\u001b[K\n",
      "remote: Counting objects: 100% (100/100), done.\u001b[K\n",
      "remote: Compressing objects: 100% (79/79), done.\u001b[K\n",
      "remote: Total 100 (delta 30), reused 75 (delta 15), pack-reused 0\u001b[K\n",
      "Receiving objects: 100% (100/100), 12.34 MiB | 4.70 MiB/s, done.\n",
      "Resolving deltas: 100% (30/30), done.\n"
     ]
    }
   ],
   "source": [
    "%cd",
    "!git clone https://github.com/mcencini/MoDL_PyTorch.git\n",
    "%cd MoDL_PyTorch"
   ]
  },
  {
   "cell_type": "code",
   "execution_count": 2,
   "id": "570e8f5f-7419-4507-a358-02adc3ad6b60",
   "metadata": {},
   "outputs": [],
   "source": [
    "!mkdir data"
   ]
  },
  {
   "cell_type": "code",
   "execution_count": 4,
   "id": "9ee26656-7b0f-4628-95e6-a6f100d4db24",
   "metadata": {},
   "outputs": [
    {
     "name": "stdout",
     "output_type": "stream",
     "text": [
      "--2023-10-06 12:43:36--  https://docs.google.com/uc?export=download&confirm=t&id=1qp-l9kJbRfQU1W5wCjOQZi7I3T6jwA37\n",
      "Resolving docs.google.com (docs.google.com)... 142.251.209.14, 2a00:1450:4002:410::200e\n",
      "Connecting to docs.google.com (docs.google.com)|142.251.209.14|:443... connected.\n",
      "HTTP request sent, awaiting response... 303 See Other\n",
      "Location: https://doc-08-60-docs.googleusercontent.com/docs/securesc/ha0ro937gcuc7l7deffksulhg5h7mbp1/65cls79g7l7j58dabho4q8cap0nn9rea/1696588950000/07064490848002564942/*/1qp-l9kJbRfQU1W5wCjOQZi7I3T6jwA37?e=download&uuid=0d4c3bea-8b82-42f5-a2ff-72b519443418 [following]\n",
      "Warning: wildcards not supported in HTTP.\n",
      "--2023-10-06 12:43:37--  https://doc-08-60-docs.googleusercontent.com/docs/securesc/ha0ro937gcuc7l7deffksulhg5h7mbp1/65cls79g7l7j58dabho4q8cap0nn9rea/1696588950000/07064490848002564942/*/1qp-l9kJbRfQU1W5wCjOQZi7I3T6jwA37?e=download&uuid=0d4c3bea-8b82-42f5-a2ff-72b519443418\n",
      "Resolving doc-08-60-docs.googleusercontent.com (doc-08-60-docs.googleusercontent.com)... 142.250.180.161, 2a00:1450:4002:403::2001\n",
      "Connecting to doc-08-60-docs.googleusercontent.com (doc-08-60-docs.googleusercontent.com)|142.250.180.161|:443... connected.\n",
      "OpenSSL: error:0A000152:SSL routines::unsafe legacy renegotiation disabled\n",
      "Unable to establish SSL connection.\n"
     ]
    }
   ],
   "source": [
    "!wget --load-cookies /tmp/cookies.txt \"https://docs.google.com/uc?export=download&confirm=$(wget --quiet --save-cookies /tmp/cookies.txt --keep-session-cookies --no-check-certificate 'https://docs.google.com/uc?export=download&id=1qp-l9kJbRfQU1W5wCjOQZi7I3T6jwA37' -O- | sed -rn 's/.*confirm=([0-9A-Za-z_]+).*/\\1\\n/p')&id=1qp-l9kJbRfQU1W5wCjOQZi7I3T6jwA37\" -O data/dataset.hdf5 && rm -rf /tmp/cookies.txt"
   ]
  },
  {
   "cell_type": "markdown",
   "id": "8a3b0c12",
   "metadata": {},
   "source": [
    "## 1. Train"
   ]
  },
  {
   "cell_type": "code",
   "execution_count": null,
   "id": "b0b04fb4",
   "metadata": {},
   "outputs": [],
   "source": [
    "!scripts/train.sh"
   ]
  },
  {
   "cell_type": "markdown",
   "id": "dea56afb-4487-4fa1-981e-cc0d09724894",
   "metadata": {},
   "source": [
    "## 2. Test"
   ]
  },
  {
   "cell_type": "code",
   "execution_count": 1,
   "id": "b960b82f-d6a4-4179-9014-1e494044749f",
   "metadata": {},
   "outputs": [
    {
     "name": "stdout",
     "output_type": "stream",
     "text": [
      "test data: 164\n",
      "loading model from ./workspace/base_modl,k=1/checkpoints/final.epoch0049-score37.2795.pth...\n",
      "\n",
      "\n",
      "test start: 2023-10-06 12:23:35\n",
      "  0%|                                                     | 0/6 [00:00<?, ?it/s]/home/local/IMAGO7/mcencini/.conda/envs/modl/lib/python3.10/site-packages/torch/nn/modules/conv.py:456: UserWarning: Applied workaround for CuDNN issue, install nvrtc.so (Triggered internally at ../aten/src/ATen/native/cudnn/Conv_v8.cpp:80.)\n",
      "  return F.conv2d(input, weight, bias, self.stride,\n",
      "100%|█████████████████████████████████████████████| 6/6 [00:14<00:00,  2.50s/it]\n",
      "test PSNR score: 36.5642\n",
      "test SSIM score: 0.8078\n",
      "-----------------------\n",
      "total test time: 0.25 min\n"
     ]
    }
   ],
   "source": [
    "!scripts/test.sh"
   ]
  },
  {
   "cell_type": "markdown",
   "id": "4633448b-6fc9-46cd-9db4-3ca55a32fe7d",
   "metadata": {},
   "source": [
    "## 3. Display"
   ]
  },
  {
   "cell_type": "code",
   "execution_count": 9,
   "id": "75294a1e-fc59-4757-b642-fcf37dd0b17f",
   "metadata": {},
   "outputs": [
    {
     "name": "stdout",
     "output_type": "stream",
     "text": [
      "The tensorboard extension is already loaded. To reload it, use:\n",
      "  %reload_ext tensorboard\n"
     ]
    },
    {
     "data": {
      "text/plain": [
       "Reusing TensorBoard on port 6006 (pid 2206420), started 0:02:41 ago. (Use '!kill 2206420' to kill it.)"
      ]
     },
     "metadata": {},
     "output_type": "display_data"
    },
    {
     "data": {
      "text/html": [
       "\n",
       "      <iframe id=\"tensorboard-frame-bdc07954be75d5b6\" width=\"100%\" height=\"800\" frameborder=\"0\">\n",
       "      </iframe>\n",
       "      <script>\n",
       "        (function() {\n",
       "          const frame = document.getElementById(\"tensorboard-frame-bdc07954be75d5b6\");\n",
       "          const url = new URL(\"/\", window.location);\n",
       "          const port = 6006;\n",
       "          if (port) {\n",
       "            url.port = port;\n",
       "          }\n",
       "          frame.src = url;\n",
       "        })();\n",
       "      </script>\n",
       "    "
      ],
      "text/plain": [
       "<IPython.core.display.HTML object>"
      ]
     },
     "metadata": {},
     "output_type": "display_data"
    }
   ],
   "source": [
    "%load_ext tensorboard\n",
    "%tensorboard --logdir runs"
   ]
  }
 ],
 "metadata": {
  "kernelspec": {
   "display_name": "Python 3 (ipykernel)",
   "language": "python",
   "name": "python3"
  },
  "language_info": {
   "codemirror_mode": {
    "name": "ipython",
    "version": 3
   },
   "file_extension": ".py",
   "mimetype": "text/x-python",
   "name": "python",
   "nbconvert_exporter": "python",
   "pygments_lexer": "ipython3",
   "version": "3.10.13"
  }
 },
 "nbformat": 4,
 "nbformat_minor": 5
}
